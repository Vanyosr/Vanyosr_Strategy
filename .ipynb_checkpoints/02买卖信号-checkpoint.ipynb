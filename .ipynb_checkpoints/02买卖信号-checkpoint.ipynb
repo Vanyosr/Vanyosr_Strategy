{
 "cells": [
  {
   "cell_type": "code",
   "execution_count": 3,
   "id": "b8b30ea3-ef8d-4da7-894f-0ca582fd5e59",
   "metadata": {},
   "outputs": [
    {
     "name": "stdout",
     "output_type": "stream",
     "text": [
      "        ts_code  trade_date  Selected Signal   open    low   high  close  \\\n",
      "0     301301.SZ    20221227         0   None  10.97   9.88  12.28  10.05   \n",
      "1     301301.SZ    20221228         0   None   9.36   9.12   9.97   9.47   \n",
      "2     301301.SZ    20221229         0   None   9.16   9.11  10.22   9.96   \n",
      "3     301301.SZ    20221230         0   None   9.70   8.94   9.76   8.95   \n",
      "4     301301.SZ    20230103         0   None   8.95   8.90   9.27   9.10   \n",
      "...         ...         ...       ...    ...    ...    ...    ...    ...   \n",
      "9790  601168.SH    20241028         0   None  18.20  18.02  18.35  18.23   \n",
      "9791  601168.SH    20241029         0   None  18.23  17.92  18.34  18.03   \n",
      "9792  601168.SH    20241030         0   None  18.02  17.80  18.34  18.06   \n",
      "9793  601168.SH    20241031         0   None  18.00  17.65  18.06  17.69   \n",
      "9794  601168.SH    20241101         0   None  17.60  17.56  18.75  18.30   \n",
      "\n",
      "      MACD_Hist  Selected    Down  stop  \n",
      "0           NaN         0     NaN  None  \n",
      "1           NaN         0     NaN  None  \n",
      "2           NaN         0     NaN  None  \n",
      "3           NaN         0     NaN  None  \n",
      "4           NaN         0     NaN  None  \n",
      "...         ...       ...     ...   ...  \n",
      "9790  -0.032154         0  0.0146  None  \n",
      "9791  -0.047435         0 -0.0153  None  \n",
      "9792  -0.049981         0 -0.0025  None  \n",
      "9793  -0.084346         0 -0.0344  None  \n",
      "9794  -0.031841         0  0.0525  None  \n",
      "\n",
      "[9795 rows x 12 columns]\n"
     ]
    }
   ],
   "source": [
    "import pandas as pd\n",
    "# 读取 CSV文件\n",
    "#df = pd.read_csv('C:/Python/Python Quantity/Daily_Strategy/Old/Ashare日线分钟线/沪深/stock_data_output/csi_300_all_stocks.csv')\n",
    "df = pd.read_csv('C:/Python/Vanyosr Strategy/stock_data_output/Vanyosr_stocks.csv')\n",
    "# 初始化 'Signal' 和 'stop' 列，'stop'用于记录止损点\n",
    "df['Signal'] = None\n",
    "df['stop'] = None\n",
    "\n",
    "# 遍历每只股票，按日期顺序查找 Selected 从 1 变为 0 的位置\n",
    "for stock in df['ts_code'].unique():\n",
    "    stock_data = df[df['ts_code'] == stock].copy()\n",
    "    stock_data.sort_values(by='trade_date', inplace=True)  # 确保按日期排序\n",
    "\n",
    "    # 追踪是否已经有 'B' 信号\n",
    "    buy_signal_flag = False\n",
    "    buy_price = None  # 记录买入价，用于止损计算\n",
    "\n",
    "    # 找到 Selected 从1变为 0的行，并为当前交易日赋值 'B' 信号\n",
    "    for i in range(1, len(stock_data)):  # 遍历从第二行开始，比较今天和昨天的数据\n",
    "        # 检查今天的开盘价是否大于等于 9，若小于 9 则跳过买入信号\n",
    "        if stock_data.iloc[i]['open'] < 0:\n",
    "            continue  # 如果开盘价小于 9，跳过买入信号的赋值\n",
    "        \n",
    "        if not buy_signal_flag and stock_data.iloc[i-1]['Selected'] == 1 and stock_data.iloc[i]['Selected'] == 0:\n",
    "            df.loc[stock_data.index[i], 'Signal'] = 'B'  # 当天赋值为 \"B\"\n",
    "            buy_signal_flag = True  # 记录买入信号\n",
    "            buy_price = stock_data.iloc[i]['close']  # 记录买入时的收盘价\n",
    "            stop_price = buy_price * (1 - 0.06)  # 计算止损点，设为买入价格的 6%下跌幅度\n",
    "            df.loc[stock_data.index[i], 'stop'] = stop_price  # 记录止损点位\n",
    "            \n",
    "        # 止损机制: 如果当前收盘价比买入价低 6%\n",
    "        if buy_signal_flag and buy_price is not None and stock_data.iloc[i]['close'] < stop_price:\n",
    "            df.loc[stock_data.index[i], 'Signal'] = 'T'  # 当天赋值为 'T'\n",
    "            buy_signal_flag = False  # 重置，允许新的买入信号\n",
    "            buy_price = None  # 清空买入价格\n",
    "            stop_price = None # 清空止损价位\n",
    "            \n",
    "        # 卖出信号: Down 列小于 -0.04\n",
    "        elif buy_signal_flag and stock_data.iloc[i]['Down'] < -0.04:\n",
    "            df.loc[stock_data.index[i], 'Signal'] = 'S'  # 当天赋值为 'S'\n",
    "            buy_signal_flag = False  # 清除买入信号，防止连续多次 'S'\n",
    "            buy_price = None  # 清空买入价格\n",
    "\n",
    "# 查看结果\n",
    "print(df[['ts_code', 'trade_date', 'Selected', 'Signal', 'open', 'low', 'high', 'close', 'MACD_Hist', 'Selected', 'Down', 'stop']])\n",
    "\n",
    "# 保存结果到新的 CSV文件\n",
    "df.to_csv('C:/Python/Vanyosr Strategy/Signal.csv', index=False)"
   ]
  },
  {
   "cell_type": "code",
   "execution_count": null,
   "id": "65a4c752-cfb1-437a-839f-3005667ba552",
   "metadata": {},
   "outputs": [],
   "source": []
  }
 ],
 "metadata": {
  "kernelspec": {
   "display_name": "Python 3 (ipykernel)",
   "language": "python",
   "name": "python3"
  },
  "language_info": {
   "codemirror_mode": {
    "name": "ipython",
    "version": 3
   },
   "file_extension": ".py",
   "mimetype": "text/x-python",
   "name": "python",
   "nbconvert_exporter": "python",
   "pygments_lexer": "ipython3",
   "version": "3.11.7"
  }
 },
 "nbformat": 4,
 "nbformat_minor": 5
}
