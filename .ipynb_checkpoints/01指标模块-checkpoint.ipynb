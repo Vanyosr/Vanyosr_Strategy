{
 "cells": [
  {
   "cell_type": "code",
   "execution_count": 1,
   "id": "ba8dfa63-9942-47aa-92b9-02d2fc2e7b7f",
   "metadata": {},
   "outputs": [],
   "source": [
    "import pandas as pd\n",
    "import tushare as ts\n",
    "import os\n",
    "import time\n",
    "# 个人的 tushare接口\n",
    "pro = ts.pro_api('6b964b4be244f48a6d9f4d45120b603a68ec6f670606906887f7dd3e')"
   ]
  },
  {
   "cell_type": "code",
   "execution_count": 2,
   "id": "06d46c4a-b571-4762-9e45-aff28ce40b73",
   "metadata": {},
   "outputs": [],
   "source": [
    "# 函数来实现 MACD 指标\n",
    "def getmacd(data,short=6,long=13, dea=5):\n",
    "    # 计算快的 EMA\n",
    "    data.loc[:,'EMA_short']=data['close'].ewm(span=short,min_periods=short).mean()\n",
    "    # 计算慢的 EMA\n",
    "    data.loc[:,'EMA_long']=data['close'].ewm(span=long,min_periods=long).mean()\n",
    "    # 计算 MACD 线\n",
    "    data.loc[:,'DIF']=data['EMA_short']-data['EMA_long']\n",
    "    # 计算信号线\n",
    "    data.loc[:,'DEA']=data['DIF'].ewm(span=dea,min_periods=dea).mean()\n",
    "    # 计算柱状图\n",
    "    data.loc[:,'MACD_Hist'] = data['DIF']-data['DEA']\n",
    "    return data"
   ]
  },
  {
   "cell_type": "code",
   "execution_count": 3,
   "id": "0bb37ad4-4e33-493c-b7c1-5dc6b81e606c",
   "metadata": {},
   "outputs": [],
   "source": [
    "# 实现选股策略找到连续四天下跌\n",
    "def select_stocks(data):\n",
    "    # 复制数据框，避免 SettingWithCopyWarning\n",
    "    data = data.copy()\n",
    "    # 创建一个布尔列，标记 MACD_Hist 是否比前一天低\n",
    "    data.loc[:,'Down'] = data['MACD_Hist'].diff() < 0\n",
    "    \n",
    "    # 创建一个布尔列，标记连续 4 天下跌的情况\n",
    "    data.loc[:,'Four_Down'] = data['Down'].rolling(window=4).sum() == 4\n",
    "    \n",
    "    # 创建一个标记列，初始化为 0\n",
    "    data.loc[:,'Selected'] = 0\n",
    "    \n",
    "    # 当连续四天下跌时，在第四天下跌的交易日标记为 1\n",
    "    data.loc[data['Four_Down'], 'Selected'] = 1\n",
    "    \n",
    "    return data"
   ]
  },
  {
   "cell_type": "code",
   "execution_count": 4,
   "id": "ace68f59-4b08-465e-a44c-d17a2831414a",
   "metadata": {},
   "outputs": [],
   "source": [
    "#  计算 MACD_Hist差值\n",
    "def down_num(data):\n",
    "    data['Down'] = data['MACD_Hist'].diff()\n",
    "    data['Down'] = data['Down'].apply(lambda x: round(x, 4))\n",
    "    return data"
   ]
  },
  {
   "cell_type": "code",
   "execution_count": 5,
   "id": "f422812d",
   "metadata": {},
   "outputs": [],
   "source": [
    "# 样本一 基于市值和流动比率筛选\n",
    "sample1 =  ['000807.SZ','000963.SZ','002128.SZ','300815.SZ','600426.SH', #'301091.SZ',\n",
    "                   '600600.SH','600861.SH','600938.SH','601021.SH','601088.SH', #'300735.SZ',\n",
    "                   '601156.SH','601919.SH','603393.SH','603613.SH','605117.SH'] #'600622.SH'] #'002085.SZ']  #'688111.SH'\n",
    "# 样本二 随机筛选\n",
    "sample2 = ['301301.SZ','300119.SZ','600150.SH','002130.SZ',\n",
    "           '300735.SZ','002626.SZ','002085.SZ','600007.SH','601168.SH'] #'002085.SZ']  #'688111.SH'"
   ]
  },
  {
   "cell_type": "code",
   "execution_count": 6,
   "id": "9edfc653-ccb4-4d79-ae1f-4c6559e72ae5",
   "metadata": {},
   "outputs": [
    {
     "name": "stdout",
     "output_type": "stream",
     "text": [
      "正在处理股票代码: 301301.SZ\n",
      "正在处理股票代码: 300119.SZ\n",
      "正在处理股票代码: 600150.SH\n",
      "正在处理股票代码: 002130.SZ\n",
      "正在处理股票代码: 300735.SZ\n",
      "正在处理股票代码: 002626.SZ\n",
      "正在处理股票代码: 002085.SZ\n",
      "正在处理股票代码: 600007.SH\n",
      "正在处理股票代码: 601168.SH\n",
      "所有股票的MACD和选股数据已导出。\n"
     ]
    }
   ],
   "source": [
    "# 选股基于我的东财高级筛选\n",
    "\n",
    "# csi_300_tickers = sample1\n",
    "csi_300_tickers = sample2\n",
    "\n",
    "# 创建一个存储 CSV文件的目录\n",
    "output_dir = 'stock_data_output'\n",
    "if not os.path.exists(output_dir):\n",
    "    os.makedirs(output_dir)\n",
    "\n",
    "# 创建一个 DataFrame 用于存储所有股票的汇总数据\n",
    "all_stocks_df = pd.DataFrame()\n",
    "\n",
    "# 遍历沪深 300的部分股票\n",
    "for ticker in csi_300_tickers:\n",
    "    print(f\"正在处理股票代码: {ticker}\")\n",
    "    try:\n",
    "        # 获取单只股票数据\n",
    "        df = pro.daily(ts_code=ticker, start_date='20200101', end_date='20270101')\n",
    "        df = df[['ts_code', 'trade_date', 'open','low','high', 'close', 'pct_chg']]\n",
    "        df.sort_values(by=['ts_code', 'trade_date'], ascending=[True, True], inplace=True)  # 按日期升序排序\n",
    "\n",
    "        # 按照之前的处理逻辑\n",
    "        if df['ts_code'].nunique() == 1:\n",
    "            # 单独股票数据处理\n",
    "            df = df.sort_values(by='trade_date', ascending=True)\n",
    "            df = getmacd(df)\n",
    "            df = select_stocks(df)\n",
    "            df = down_num(df)\n",
    "            df = df[['ts_code', 'trade_date', 'open','low','high', 'close', 'MACD_Hist','Selected','Down']]\n",
    "            df.to_csv(os.path.join(output_dir, f\"{ticker}.csv\"), index=False)\n",
    "        else:\n",
    "            result_df = pd.DataFrame()\n",
    "            grouped = df.groupby('ts_code')\n",
    "            for name, group in grouped:\n",
    "                group = group.sort_values(by='trade_date', ascending=True)\n",
    "                group = getmacd(group)\n",
    "                group = select_stocks(group)\n",
    "                group = down_num(group)\n",
    "                result_df = pd.concat([result_df, group], ignore_index=True)\n",
    "\n",
    "            df = result_df[['ts_code', 'trade_date', 'open','low','high', 'close', 'MACD_Hist','Selected','Down']]\n",
    "            df = df.sort_values(by=['ts_code', 'trade_date'], ascending=[True, True]).copy()\n",
    "            df.to_csv(os.path.join(output_dir, f\"{ticker}.csv\"), index=False)\n",
    "\n",
    "        # 将每个股票处理结果追加到汇总的 DataFrame 中\n",
    "        all_stocks_df = pd.concat([all_stocks_df, df], ignore_index=True)\n",
    "        \n",
    "        # 短暂休息，避免过多请求\n",
    "        time.sleep(1)\n",
    "    \n",
    "    except Exception as e:\n",
    "        print(f\"处理股票 {ticker} 时出现错误: {e}\")\n",
    "\n",
    "# 导出汇总数据\n",
    "#all_stocks_df.to_csv(os.path.join(output_dir, \"csi_300_all_stocks.csv\"), index=False)\n",
    "all_stocks_df.to_csv(os.path.join(output_dir, \"Vanyosr_stocks.csv\"), index=False)\n",
    "print(\"所有股票的MACD和选股数据已导出。\")"
   ]
  },
  {
   "cell_type": "code",
   "execution_count": null,
   "id": "7e3d12f1-2374-44e8-b9bc-821a9c3c8673",
   "metadata": {},
   "outputs": [],
   "source": []
  },
  {
   "cell_type": "code",
   "execution_count": null,
   "id": "b47415e6-50a8-4b53-83bc-508f8ef8b739",
   "metadata": {},
   "outputs": [],
   "source": []
  }
 ],
 "metadata": {
  "kernelspec": {
   "display_name": "Python 3 (ipykernel)",
   "language": "python",
   "name": "python3"
  },
  "language_info": {
   "codemirror_mode": {
    "name": "ipython",
    "version": 3
   },
   "file_extension": ".py",
   "mimetype": "text/x-python",
   "name": "python",
   "nbconvert_exporter": "python",
   "pygments_lexer": "ipython3",
   "version": "3.11.7"
  }
 },
 "nbformat": 4,
 "nbformat_minor": 5
}
